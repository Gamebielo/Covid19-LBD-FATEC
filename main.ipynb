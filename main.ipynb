{
 "cells": [
  {
   "cell_type": "markdown",
   "metadata": {},
   "source": [
    "# CASOS DE SÍNDROME RESPIRATÓRIA AGUDA GRAVE HOSPITALIZADOS\n",
    "# Análise dos casos suspeitos e confirmados entre jovens de 18 a 35 anos de idade nos municípios de São José dos Campos, Jacareí e Caçapava"
   ]
  },
  {
   "cell_type": "markdown",
   "metadata": {},
   "source": [
    "## Dados obtidos pelo OpenDatasus (26/06/2020), esta análise tem como objetivo verificar se há ou não algum risco para volta as aulas presenciais da faculdade FATEC Jessen Vidal"
   ]
  },
  {
   "cell_type": "markdown",
   "metadata": {},
   "source": [
    "### O intervalo de idades foi previamente escolhido com base na média das idades dos alunos dentro da FATEC"
   ]
  },
  {
   "cell_type": "code",
   "execution_count": 1,
   "metadata": {},
   "outputs": [],
   "source": [
    "# Bibliotecas necessárias\n",
    "import pandas as pd\n",
    "import matplotlib.pyplot as plt\n",
    "\n",
    "# Algumas configurações para a leitura e o display dos dados\n",
    "low_memory=False\n",
    "%matplotlib inline\n",
    "pd.options.display.max_columns = 80\n",
    "pd.options.display.max_rows = 90\n",
    "%config IPCompleter.greedy=True\n",
    "\n",
    "plt.style.use('tableau-colorblind10')"
   ]
  },
  {
   "cell_type": "code",
   "execution_count": 3,
   "metadata": {},
   "outputs": [],
   "source": [
    "# Lendo o arquivo dos dados\n",
    "df = pd.read_csv(\"INFLUD-23-06-2020.csv\", encoding = 'latin1', \n",
    "                 sep=';', error_bad_lines=False, warn_bad_lines=True)"
   ]
  },
  {
   "cell_type": "code",
   "execution_count": 4,
   "metadata": {},
   "outputs": [
    {
     "data": {
      "text/plain": [
       "(326193, 134)"
      ]
     },
     "execution_count": 4,
     "metadata": {},
     "output_type": "execute_result"
    }
   ],
   "source": [
    "# Dimensão do DataFrame\n",
    "df.shape"
   ]
  },
  {
   "cell_type": "code",
   "execution_count": 5,
   "metadata": {},
   "outputs": [
    {
     "name": "stdout",
     "output_type": "stream",
     "text": [
      "<class 'pandas.core.frame.DataFrame'>\n",
      "RangeIndex: 326193 entries, 0 to 326192\n",
      "Columns: 134 entries, DT_NOTIFIC to PAC_DSCBO\n",
      "dtypes: float64(76), int64(10), object(48)\n",
      "memory usage: 333.5+ MB\n"
     ]
    }
   ],
   "source": [
    "# Informações do DataFrame\n",
    "df.info()"
   ]
  },
  {
   "cell_type": "code",
   "execution_count": 6,
   "metadata": {},
   "outputs": [
    {
     "data": {
      "text/html": [
       "<div>\n",
       "<style scoped>\n",
       "    .dataframe tbody tr th:only-of-type {\n",
       "        vertical-align: middle;\n",
       "    }\n",
       "\n",
       "    .dataframe tbody tr th {\n",
       "        vertical-align: top;\n",
       "    }\n",
       "\n",
       "    .dataframe thead th {\n",
       "        text-align: right;\n",
       "    }\n",
       "</style>\n",
       "<table border=\"1\" class=\"dataframe\">\n",
       "  <thead>\n",
       "    <tr style=\"text-align: right;\">\n",
       "      <th></th>\n",
       "      <th>DT_NOTIFIC</th>\n",
       "      <th>SEM_NOT</th>\n",
       "      <th>DT_SIN_PRI</th>\n",
       "      <th>SEM_PRI</th>\n",
       "      <th>SG_UF_NOT</th>\n",
       "      <th>ID_REGIONA</th>\n",
       "      <th>CO_REGIONA</th>\n",
       "      <th>ID_MUNICIP</th>\n",
       "      <th>CO_MUN_NOT</th>\n",
       "      <th>ID_UNIDADE</th>\n",
       "      <th>CO_UNI_NOT</th>\n",
       "      <th>CS_SEXO</th>\n",
       "      <th>DT_NASC</th>\n",
       "      <th>NU_IDADE_N</th>\n",
       "      <th>TP_IDADE</th>\n",
       "      <th>COD_IDADE</th>\n",
       "      <th>CS_GESTANT</th>\n",
       "      <th>CS_RACA</th>\n",
       "      <th>CS_ETINIA</th>\n",
       "      <th>CS_ESCOL_N</th>\n",
       "      <th>ID_PAIS</th>\n",
       "      <th>CO_PAIS</th>\n",
       "      <th>SG_UF</th>\n",
       "      <th>ID_RG_RESI</th>\n",
       "      <th>CO_RG_RESI</th>\n",
       "      <th>ID_MN_RESI</th>\n",
       "      <th>CO_MUN_RES</th>\n",
       "      <th>CS_ZONA</th>\n",
       "      <th>SURTO_SG</th>\n",
       "      <th>NOSOCOMIAL</th>\n",
       "      <th>AVE_SUINO</th>\n",
       "      <th>FEBRE</th>\n",
       "      <th>TOSSE</th>\n",
       "      <th>GARGANTA</th>\n",
       "      <th>DISPNEIA</th>\n",
       "      <th>DESC_RESP</th>\n",
       "      <th>SATURACAO</th>\n",
       "      <th>DIARREIA</th>\n",
       "      <th>VOMITO</th>\n",
       "      <th>OUTRO_SIN</th>\n",
       "      <th>...</th>\n",
       "      <th>IF_PARA3</th>\n",
       "      <th>IF_ADENO</th>\n",
       "      <th>IF_OUTRO</th>\n",
       "      <th>DS_IF_OUT</th>\n",
       "      <th>PCR_RESUL</th>\n",
       "      <th>DT_PCR</th>\n",
       "      <th>POS_PCRFLU</th>\n",
       "      <th>TP_FLU_PCR</th>\n",
       "      <th>PCR_FLUASU</th>\n",
       "      <th>FLUASU_OUT</th>\n",
       "      <th>PCR_FLUBLI</th>\n",
       "      <th>FLUBLI_OUT</th>\n",
       "      <th>POS_PCROUT</th>\n",
       "      <th>PCR_VSR</th>\n",
       "      <th>PCR_PARA1</th>\n",
       "      <th>PCR_PARA2</th>\n",
       "      <th>PCR_PARA3</th>\n",
       "      <th>PCR_PARA4</th>\n",
       "      <th>PCR_ADENO</th>\n",
       "      <th>PCR_METAP</th>\n",
       "      <th>PCR_BOCA</th>\n",
       "      <th>PCR_RINO</th>\n",
       "      <th>PCR_OUTRO</th>\n",
       "      <th>DS_PCR_OUT</th>\n",
       "      <th>CLASSI_FIN</th>\n",
       "      <th>CLASSI_OUT</th>\n",
       "      <th>CRITERIO</th>\n",
       "      <th>EVOLUCAO</th>\n",
       "      <th>DT_EVOLUCA</th>\n",
       "      <th>DT_ENCERRA</th>\n",
       "      <th>DT_DIGITA</th>\n",
       "      <th>HISTO_VGM</th>\n",
       "      <th>PAIS_VGM</th>\n",
       "      <th>CO_PS_VGM</th>\n",
       "      <th>LO_PS_VGM</th>\n",
       "      <th>DT_VGM</th>\n",
       "      <th>DT_RT_VGM</th>\n",
       "      <th>PCR_SARS2</th>\n",
       "      <th>PAC_COCBO</th>\n",
       "      <th>PAC_DSCBO</th>\n",
       "    </tr>\n",
       "  </thead>\n",
       "  <tbody>\n",
       "    <tr>\n",
       "      <td>319741</td>\n",
       "      <td>22/06/2020</td>\n",
       "      <td>26</td>\n",
       "      <td>08/06/2020</td>\n",
       "      <td>24</td>\n",
       "      <td>BA</td>\n",
       "      <td>NUCLEO REGIONAL DE SAUDE LESTE</td>\n",
       "      <td>1380.0</td>\n",
       "      <td>SALVADOR</td>\n",
       "      <td>292740</td>\n",
       "      <td>HOSPITAL ALIANCA</td>\n",
       "      <td>2389746</td>\n",
       "      <td>M</td>\n",
       "      <td>11/06/1977</td>\n",
       "      <td>42</td>\n",
       "      <td>3</td>\n",
       "      <td>3042</td>\n",
       "      <td>6</td>\n",
       "      <td>9.0</td>\n",
       "      <td>NaN</td>\n",
       "      <td>9.0</td>\n",
       "      <td>BRASIL</td>\n",
       "      <td>1</td>\n",
       "      <td>BA</td>\n",
       "      <td>NUCLEO REGIONAL DE SAUDE LESTE</td>\n",
       "      <td>1380.0</td>\n",
       "      <td>SALVADOR</td>\n",
       "      <td>292740.0</td>\n",
       "      <td>1.0</td>\n",
       "      <td>2.0</td>\n",
       "      <td>2.0</td>\n",
       "      <td>9.0</td>\n",
       "      <td>1.0</td>\n",
       "      <td>1.0</td>\n",
       "      <td>2.0</td>\n",
       "      <td>NaN</td>\n",
       "      <td>2.0</td>\n",
       "      <td>2.0</td>\n",
       "      <td>2.0</td>\n",
       "      <td>2.0</td>\n",
       "      <td>1.0</td>\n",
       "      <td>...</td>\n",
       "      <td>NaN</td>\n",
       "      <td>NaN</td>\n",
       "      <td>NaN</td>\n",
       "      <td>NaN</td>\n",
       "      <td>1.0</td>\n",
       "      <td>22/06/2020</td>\n",
       "      <td>2.0</td>\n",
       "      <td>NaN</td>\n",
       "      <td>NaN</td>\n",
       "      <td>NaN</td>\n",
       "      <td>NaN</td>\n",
       "      <td>NaN</td>\n",
       "      <td>1.0</td>\n",
       "      <td>NaN</td>\n",
       "      <td>NaN</td>\n",
       "      <td>NaN</td>\n",
       "      <td>NaN</td>\n",
       "      <td>NaN</td>\n",
       "      <td>NaN</td>\n",
       "      <td>NaN</td>\n",
       "      <td>NaN</td>\n",
       "      <td>NaN</td>\n",
       "      <td>NaN</td>\n",
       "      <td>NaN</td>\n",
       "      <td>5.0</td>\n",
       "      <td>NaN</td>\n",
       "      <td>1.0</td>\n",
       "      <td>9.0</td>\n",
       "      <td>00000000</td>\n",
       "      <td>22/06/2020</td>\n",
       "      <td>22/06/2020</td>\n",
       "      <td>2</td>\n",
       "      <td>NaN</td>\n",
       "      <td>NaN</td>\n",
       "      <td>NaN</td>\n",
       "      <td>00000000</td>\n",
       "      <td>00000000</td>\n",
       "      <td>1.0</td>\n",
       "      <td>NaN</td>\n",
       "      <td>NaN</td>\n",
       "    </tr>\n",
       "  </tbody>\n",
       "</table>\n",
       "<p>1 rows × 134 columns</p>\n",
       "</div>"
      ],
      "text/plain": [
       "        DT_NOTIFIC  SEM_NOT  DT_SIN_PRI  SEM_PRI SG_UF_NOT  \\\n",
       "319741  22/06/2020       26  08/06/2020       24        BA   \n",
       "\n",
       "                            ID_REGIONA  CO_REGIONA ID_MUNICIP  CO_MUN_NOT  \\\n",
       "319741  NUCLEO REGIONAL DE SAUDE LESTE      1380.0   SALVADOR      292740   \n",
       "\n",
       "              ID_UNIDADE  CO_UNI_NOT CS_SEXO     DT_NASC  NU_IDADE_N  \\\n",
       "319741  HOSPITAL ALIANCA     2389746       M  11/06/1977          42   \n",
       "\n",
       "        TP_IDADE  COD_IDADE  CS_GESTANT  CS_RACA CS_ETINIA  CS_ESCOL_N  \\\n",
       "319741         3       3042           6      9.0       NaN         9.0   \n",
       "\n",
       "       ID_PAIS  CO_PAIS SG_UF                      ID_RG_RESI  CO_RG_RESI  \\\n",
       "319741  BRASIL        1    BA  NUCLEO REGIONAL DE SAUDE LESTE      1380.0   \n",
       "\n",
       "       ID_MN_RESI  CO_MUN_RES  CS_ZONA  SURTO_SG  NOSOCOMIAL  AVE_SUINO  \\\n",
       "319741   SALVADOR    292740.0      1.0       2.0         2.0        9.0   \n",
       "\n",
       "        FEBRE  TOSSE  GARGANTA  DISPNEIA  DESC_RESP  SATURACAO  DIARREIA  \\\n",
       "319741    1.0    1.0       2.0       NaN        2.0        2.0       2.0   \n",
       "\n",
       "        VOMITO  OUTRO_SIN  ... IF_PARA3  IF_ADENO  IF_OUTRO  DS_IF_OUT  \\\n",
       "319741     2.0        1.0  ...      NaN       NaN       NaN        NaN   \n",
       "\n",
       "        PCR_RESUL      DT_PCR  POS_PCRFLU  TP_FLU_PCR  PCR_FLUASU  FLUASU_OUT  \\\n",
       "319741        1.0  22/06/2020         2.0         NaN         NaN         NaN   \n",
       "\n",
       "        PCR_FLUBLI  FLUBLI_OUT  POS_PCROUT  PCR_VSR  PCR_PARA1 PCR_PARA2  \\\n",
       "319741         NaN         NaN         1.0      NaN        NaN       NaN   \n",
       "\n",
       "        PCR_PARA3 PCR_PARA4  PCR_ADENO PCR_METAP  PCR_BOCA PCR_RINO PCR_OUTRO  \\\n",
       "319741        NaN       NaN        NaN       NaN       NaN      NaN       NaN   \n",
       "\n",
       "       DS_PCR_OUT  CLASSI_FIN  CLASSI_OUT CRITERIO EVOLUCAO  DT_EVOLUCA  \\\n",
       "319741        NaN         5.0         NaN      1.0      9.0    00000000   \n",
       "\n",
       "        DT_ENCERRA   DT_DIGITA HISTO_VGM  PAIS_VGM CO_PS_VGM  LO_PS_VGM  \\\n",
       "319741  22/06/2020  22/06/2020         2       NaN       NaN        NaN   \n",
       "\n",
       "          DT_VGM DT_RT_VGM PCR_SARS2  PAC_COCBO  PAC_DSCBO  \n",
       "319741  00000000  00000000       1.0        NaN        NaN  \n",
       "\n",
       "[1 rows x 134 columns]"
      ]
     },
     "execution_count": 6,
     "metadata": {},
     "output_type": "execute_result"
    }
   ],
   "source": [
    "# Exibindo um exemplo, para confirmar a leitura\n",
    "df.sample()"
   ]
  },
  {
   "cell_type": "code",
   "execution_count": 7,
   "metadata": {},
   "outputs": [
    {
     "data": {
      "text/plain": [
       "SAO JOSE DOS CAMPOS    183\n",
       "Name: ID_MUNICIP, dtype: int64"
      ]
     },
     "execution_count": 7,
     "metadata": {},
     "output_type": "execute_result"
    }
   ],
   "source": [
    "# Casos suspeitos, crises respiratórias agudas entre 18-35 anos\n",
    "df.query('ID_MUNICIP == \"SAO JOSE DOS CAMPOS\" and NU_IDADE_N >= 18 and NU_IDADE_N <= 35')['ID_MUNICIP'].value_counts()"
   ]
  },
  {
   "cell_type": "markdown",
   "metadata": {},
   "source": [
    "# Número de casos confirmados entre jovens de 18 a 35 anos!"
   ]
  },
  {
   "cell_type": "code",
   "execution_count": 8,
   "metadata": {},
   "outputs": [
    {
     "data": {
      "text/plain": [
       "SAO JOSE DOS CAMPOS    59\n",
       "Name: ID_MUNICIP, dtype: int64"
      ]
     },
     "execution_count": 8,
     "metadata": {},
     "output_type": "execute_result"
    }
   ],
   "source": [
    "# Número de casos CONFIRMADOS entre 18-35 anos\n",
    "df.query('ID_MUNICIP == \"SAO JOSE DOS CAMPOS\" and NU_IDADE_N >= 18 and NU_IDADE_N <= 35 \\\n",
    "          and CLASSI_FIN == 5')['ID_MUNICIP'].value_counts()"
   ]
  },
  {
   "cell_type": "markdown",
   "metadata": {},
   "source": [
    "### No município de São José dos Campos, 59 casos foram confirmados entre as idades citadas!"
   ]
  },
  {
   "cell_type": "markdown",
   "metadata": {},
   "source": [
    "### Casos suspeitos em São José dos Campos - 18-35 anos"
   ]
  },
  {
   "cell_type": "code",
   "execution_count": 19,
   "metadata": {},
   "outputs": [
    {
     "data": {
      "text/plain": [
       "SAO JOSE DOS CAMPOS    183\n",
       "Name: ID_MUNICIP, dtype: int64"
      ]
     },
     "execution_count": 19,
     "metadata": {},
     "output_type": "execute_result"
    }
   ],
   "source": [
    "# Entre 18-35 anos\n",
    "jovensSJC = df.query('ID_MUNICIP == \"SAO JOSE DOS CAMPOS\" and NU_IDADE_N >= 18 and NU_IDADE_N <= 35')['ID_MUNICIP'].value_counts()\n",
    "jovensSJC"
   ]
  },
  {
   "cell_type": "code",
   "execution_count": 30,
   "metadata": {},
   "outputs": [
    {
     "data": {
      "text/plain": [
       "SAO JOSE DOS CAMPOS    155\n",
       "Name: ID_MUNICIP, dtype: int64"
      ]
     },
     "execution_count": 30,
     "metadata": {},
     "output_type": "execute_result"
    }
   ],
   "source": [
    "# Resto das outras idades inferiores a 18\n",
    "inferiorSJC = df.query('ID_MUNICIP == \"SAO JOSE DOS CAMPOS\" and NU_IDADE_N < 18')['ID_MUNICIP'].value_counts()\n",
    "inferiorSJC"
   ]
  },
  {
   "cell_type": "code",
   "execution_count": 31,
   "metadata": {},
   "outputs": [
    {
     "data": {
      "text/plain": [
       "SAO JOSE DOS CAMPOS    1143\n",
       "Name: ID_MUNICIP, dtype: int64"
      ]
     },
     "execution_count": 31,
     "metadata": {},
     "output_type": "execute_result"
    }
   ],
   "source": [
    "# Resto das outras idades superiores a 35\n",
    "superiorSJC = df.query('ID_MUNICIP == \"SAO JOSE DOS CAMPOS\" and NU_IDADE_N > 35')['ID_MUNICIP'].value_counts()\n",
    "superiorSJC"
   ]
  },
  {
   "cell_type": "markdown",
   "metadata": {},
   "source": [
    "### Veremos agora, a porcentagem baseada na média das idade dos alunos e o resto das idades, no município de em São José dos Campos (casos suspeitos)"
   ]
  },
  {
   "cell_type": "code",
   "execution_count": 32,
   "metadata": {},
   "outputs": [
    {
     "data": {
      "image/png": "[encoded data removed]",
      "text/plain": [
       "<Figure size 432x288 with 1 Axes>"
      ]
     },
     "metadata": {},
     "output_type": "display_data"
    }
   ],
   "source": [
    "# Definimos os títulos a serem mostrados no gráfico\n",
    "labels = (f'Entre 18-35 anos: {jovensSJC[0]}'), (f'Outras idades: {totalInferior[0] + totalSuperior[0]}')\n",
    "# Agora os valores a serem exibidos, seguindo a mesma ordem dos títulos\n",
    "sizes = [jovensSJC[0], (inferiorSJC[0] + superiorSJC[0])]\n",
    "explode = (0.1, 0) # definindo o espaço de separação do pedaço da pizza (jovens) ...\n",
    "\n",
    "fig1, ax1 = plt.subplots()\n",
    "ax1.pie(sizes, explode=explode, labels=labels, autopct='%1.1f%%',\n",
    "        shadow=True, startangle=90)\n",
    "ax1.axis('equal')  # Equal aspect ratio garante que o grafico seja desenhado como um círculo\n",
    "\n",
    "plt.show()"
   ]
  },
  {
   "cell_type": "markdown",
   "metadata": {},
   "source": [
    "### "
   ]
  },
  {
   "cell_type": "markdown",
   "metadata": {},
   "source": [
    "## Casos suspeitos em Caçapava - 18-35 anos"
   ]
  },
  {
   "cell_type": "code",
   "execution_count": 21,
   "metadata": {},
   "outputs": [
    {
     "data": {
      "text/plain": [
       "CACAPAVA    19\n",
       "Name: ID_MUNICIP, dtype: int64"
      ]
     },
     "execution_count": 21,
     "metadata": {},
     "output_type": "execute_result"
    }
   ],
   "source": [
    "# Casos suspeitos, crises respiratórias agudas entre 18-35 anos - Caçapava\n",
    "jovensCacapava = df.query('ID_MUNICIP == \"CACAPAVA\" and NU_IDADE_N >= 18 and NU_IDADE_N <= 35')['ID_MUNICIP'].value_counts()\n",
    "jovensCacapava"
   ]
  },
  {
   "cell_type": "code",
   "execution_count": 25,
   "metadata": {},
   "outputs": [
    {
     "data": {
      "text/plain": [
       "CACAPAVA    9\n",
       "Name: ID_MUNICIP, dtype: int64"
      ]
     },
     "execution_count": 25,
     "metadata": {},
     "output_type": "execute_result"
    }
   ],
   "source": [
    "# Resto das outras idades inferiores a 18\n",
    "cacapavaInferior = df.query('ID_MUNICIP == \"CACAPAVA\" and NU_IDADE_N < 18')['ID_MUNICIP'].value_counts()\n",
    "cacapavaInferior"
   ]
  },
  {
   "cell_type": "code",
   "execution_count": 23,
   "metadata": {},
   "outputs": [
    {
     "data": {
      "text/plain": [
       "CACAPAVA    70\n",
       "Name: ID_MUNICIP, dtype: int64"
      ]
     },
     "execution_count": 23,
     "metadata": {},
     "output_type": "execute_result"
    }
   ],
   "source": [
    "# Resto das outras idades superiores a 35\n",
    "cacapavaSuperior = df.query('ID_MUNICIP == \"CACAPAVA\" and NU_IDADE_N > 35')['ID_MUNICIP'].value_counts()\n",
    "cacapavaSuperior"
   ]
  },
  {
   "cell_type": "code",
   "execution_count": 26,
   "metadata": {},
   "outputs": [
    {
     "data": {
      "image/png": "[encoded data removed]",
      "text/plain": [
       "<Figure size 432x288 with 1 Axes>"
      ]
     },
     "metadata": {},
     "output_type": "display_data"
    }
   ],
   "source": [
    "# Definimos os títulos a serem mostrados no gráfico\n",
    "labels = (f'Entre 18-35 anos: {jovensCacapava[0]}'), (f'Outras idades: {cacapavaInferior[0] + cacapavaSuperior[0]}')\n",
    "# Agora os valores a serem exibidos, seguindo a mesma ordem dos títulos\n",
    "sizes = [jovensCacapava[0], (cacapavaInferior[0] + cacapavaSuperior[0])]\n",
    "explode = (0.1, 0) # definindo o espaço de separação do pedaço da pizza (jovens) ...\n",
    "\n",
    "fig1, ax1 = plt.subplots()\n",
    "ax1.pie(sizes, explode=explode, labels=labels, autopct='%1.1f%%',\n",
    "        shadow=True, startangle=90)\n",
    "ax1.axis('equal')  # Equal aspect ratio garante que o grafico seja desenhado como um círculo\n",
    "\n",
    "plt.show()"
   ]
  },
  {
   "cell_type": "markdown",
   "metadata": {},
   "source": [
    "## Casos suspeitos em Jacareí - 18-35 anos"
   ]
  },
  {
   "cell_type": "code",
   "execution_count": 22,
   "metadata": {},
   "outputs": [
    {
     "data": {
      "text/plain": [
       "JACAREI    55\n",
       "Name: ID_MUNICIP, dtype: int64"
      ]
     },
     "execution_count": 22,
     "metadata": {},
     "output_type": "execute_result"
    }
   ],
   "source": [
    "# Casos suspeitos, crises respiratórias agudas entre 18-35 anos - Jacareí\n",
    "jovensJacarei = df.query('ID_MUNICIP == \"JACAREI\" and NU_IDADE_N >= 18 and NU_IDADE_N <= 35')['ID_MUNICIP'].value_counts()\n",
    "jovensJacarei"
   ]
  },
  {
   "cell_type": "code",
   "execution_count": 27,
   "metadata": {},
   "outputs": [
    {
     "data": {
      "text/plain": [
       "JACAREI    38\n",
       "Name: ID_MUNICIP, dtype: int64"
      ]
     },
     "execution_count": 27,
     "metadata": {},
     "output_type": "execute_result"
    }
   ],
   "source": [
    "# Resto das outras idades inferiores a 18\n",
    "jacareiInferior = df.query('ID_MUNICIP == \"JACAREI\" and NU_IDADE_N < 18')['ID_MUNICIP'].value_counts()\n",
    "jacareiInferior"
   ]
  },
  {
   "cell_type": "code",
   "execution_count": 24,
   "metadata": {},
   "outputs": [
    {
     "data": {
      "text/plain": [
       "JACAREI    306\n",
       "Name: ID_MUNICIP, dtype: int64"
      ]
     },
     "execution_count": 24,
     "metadata": {},
     "output_type": "execute_result"
    }
   ],
   "source": [
    "# Resto das outras idades superiores a 35\n",
    "jacareiSuperior = df.query('ID_MUNICIP == \"JACAREI\" and NU_IDADE_N > 35')['ID_MUNICIP'].value_counts()\n",
    "jacareiSuperior"
   ]
  },
  {
   "cell_type": "code",
   "execution_count": 28,
   "metadata": {
    "scrolled": true
   },
   "outputs": [
    {
     "data": {
      "image/png": "[encoded data removed]",
      "text/plain": [
       "<Figure size 432x288 with 1 Axes>"
      ]
     },
     "metadata": {},
     "output_type": "display_data"
    }
   ],
   "source": [
    "# Definimos os títulos a serem mostrados no gráfico\n",
    "labels = (f'Entre 18-35 anos: {jovensJacarei[0]}'), (f'Outras idades: {jacareiInferior[0] + jacareiSuperior[0]}')\n",
    "# Agora os valores a serem exibidos, seguindo a mesma ordem dos títulos\n",
    "sizes = [jovensJacarei[0], (jacareiInferior[0] + jacareiSuperior[0])]\n",
    "explode = (0.1, 0) # definindo o espaço de separação do pedaço da pizza (jovens) ...\n",
    "\n",
    "fig1, ax1 = plt.subplots()\n",
    "ax1.pie(sizes, explode=explode, labels=labels, autopct='%1.1f%%',\n",
    "        shadow=True, startangle=90)\n",
    "ax1.axis('equal')  # Equal aspect ratio garante que o grafico seja desenhado como um círculo\n",
    "\n",
    "plt.show()"
   ]
  },
  {
   "cell_type": "markdown",
   "metadata": {},
   "source": [
    "## Totalizando o total das idades nos 3 municípios"
   ]
  },
  {
   "cell_type": "code",
   "execution_count": 38,
   "metadata": {},
   "outputs": [
    {
     "data": {
      "text/plain": [
       "257"
      ]
     },
     "execution_count": 38,
     "metadata": {},
     "output_type": "execute_result"
    }
   ],
   "source": [
    "# Número total de casos suspeitos entre jovens dos 3 municípios\n",
    "jovensTotal = jovensSJC[0] + jovensCacapava[0] + jovensJacarei[0]\n",
    "jovensTotal"
   ]
  },
  {
   "cell_type": "code",
   "execution_count": 39,
   "metadata": {},
   "outputs": [
    {
     "data": {
      "text/plain": [
       "202"
      ]
     },
     "execution_count": 39,
     "metadata": {},
     "output_type": "execute_result"
    }
   ],
   "source": [
    "# Número total de casos suspeitos para menores de 18 anos dos 3 municípios\n",
    "inferiorTotal = inferiorSJC[0] + cacapavaInferior[0] + jacareiInferior[0]\n",
    "inferiorTotal"
   ]
  },
  {
   "cell_type": "code",
   "execution_count": 40,
   "metadata": {},
   "outputs": [
    {
     "data": {
      "text/plain": [
       "1519"
      ]
     },
     "execution_count": 40,
     "metadata": {},
     "output_type": "execute_result"
    }
   ],
   "source": [
    "# Número total de casos suspeitos para maiores de 35 anos dos 3 municípios\n",
    "superiorTotal = superiorSJC[0] + cacapavaSuperior[0] + jacareiSuperior[0]\n",
    "superiorTotal"
   ]
  },
  {
   "cell_type": "code",
   "execution_count": 41,
   "metadata": {},
   "outputs": [
    {
     "data": {
      "image/png": "[encoded data removed]",
      "text/plain": [
       "<Figure size 432x288 with 1 Axes>"
      ]
     },
     "metadata": {},
     "output_type": "display_data"
    }
   ],
   "source": [
    "# Definimos os títulos a serem mostrados no gráfico\n",
    "labels = (f'Entre 18-35 anos: {jovensTotal}'), (f'Outras idades: {inferiorTotal + superiorTotal}')\n",
    "# Agora os valores a serem exibidos, seguindo a mesma ordem dos títulos\n",
    "sizes = [jovensTotal, (inferiorTotal + superiorTotal)]\n",
    "explode = (0.1, 0) # definindo o espaço de separação do pedaço da pizza (jovens) ...\n",
    "\n",
    "fig1, ax1 = plt.subplots()\n",
    "ax1.pie(sizes, explode=explode, labels=labels, autopct='%1.1f%%',\n",
    "        shadow=True, startangle=90)\n",
    "ax1.axis('equal')  # Equal aspect ratio garante que o grafico seja desenhado como um círculo\n",
    "\n",
    "plt.show()"
   ]
  },
  {
   "cell_type": "markdown",
   "metadata": {},
   "source": [
    "### Em uma volta repentina das atividades presenciais na FATEC Jessen Vidal, a chance de se contrair o COVID-19 é de 13% baseado na média de idade dos alunos presentes na Faculdade\n",
    "\n",
    "#### Obs: A porcertagem é uma previsão de um cenário onde todos os jovens dos 3 principais municípios estivessem contaminados por COVID-19 e fossem alunos da faculdade."
   ]
  }
 ],
 "metadata": {
  "kernelspec": {
   "display_name": "Python 3",
   "language": "python",
   "name": "python3"
  },
  "language_info": {
   "codemirror_mode": {
    "name": "ipython",
    "version": 3
   },
   "file_extension": ".py",
   "mimetype": "text/x-python",
   "name": "python",
   "nbconvert_exporter": "python",
   "pygments_lexer": "ipython3",
   "version": "3.7.4"
  }
 },
 "nbformat": 4,
 "nbformat_minor": 2
}
